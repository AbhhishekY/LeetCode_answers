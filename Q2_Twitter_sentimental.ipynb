{
  "nbformat": 4,
  "nbformat_minor": 0,
  "metadata": {
    "colab": {
      "name": "Q2_Twitter_sentimental.ipynb",
      "provenance": [],
      "authorship_tag": "ABX9TyMuNC7Tud0AZTOL9SHLQJ42",
      "include_colab_link": true
    },
    "kernelspec": {
      "name": "python3",
      "display_name": "Python 3"
    }
  },
  "cells": [
    {
      "cell_type": "markdown",
      "metadata": {
        "id": "view-in-github",
        "colab_type": "text"
      },
      "source": [
        "<a href=\"https://colab.research.google.com/github/AbhhishekY/LeetCode_answers/blob/master/Q2_Twitter_sentimental.ipynb\" target=\"_parent\"><img src=\"https://colab.research.google.com/assets/colab-badge.svg\" alt=\"Open In Colab\"/></a>"
      ]
    },
    {
      "cell_type": "code",
      "metadata": {
        "id": "VYcLq-W3Xvhl"
      },
      "source": [
        "import re \n",
        "import tweepy \n",
        "from tweepy import OAuthHandler \n",
        "from textblob import TextBlob \n",
        "import matplotlib.pyplot as plt"
      ],
      "execution_count": 55,
      "outputs": []
    },
    {
      "cell_type": "code",
      "metadata": {
        "id": "f-lrx5vFYrGp"
      },
      "source": [
        "class TwitterClient(object): \n",
        "    \n",
        "    def __init__(self): \n",
        "        \n",
        "        # keys and tokens from the Twitter Dev Console \n",
        "        consumer_key = 'zPgTzGc0MPAVdPaiTWL2PEGft'\n",
        "        consumer_secret = 'Hnv7lYFaCaphcF77nSqrPlaatnBGjfqYcOXbHbrnzmN9u4bcdp'\n",
        "        access_token = '496987160-17Aqj1qSq3zqR5BQkEipS6iNmhJ0SS22qZqtYrJA'\n",
        "        access_token_secret = '6L9wjrTUgBtamKRnQlMQAPJlr8nEY21qDQdLWOZq4ZT84'\n",
        "  \n",
        "        try: \n",
        "            # create OAuthHandler object \n",
        "            self.auth = OAuthHandler(consumer_key, consumer_secret) \n",
        "            # set access token and secret \n",
        "            self.auth.set_access_token(access_token, access_token_secret) \n",
        "            # create tweepy API object to fetch tweets \n",
        "            self.api = tweepy.API(self.auth) \n",
        "        except: \n",
        "            print(\"Error: Authentication Failed\") \n",
        "  \n",
        "    def clean_tweet(self, tweet): \n",
        "        #clean the tweets \n",
        "        return ' '.join(re.sub(\"(@[A-Za-z0-9]+)|([^0-9A-Za-z \\t]) || (\\w+:\\/\\/\\S+)\", \" \", tweet).split())\n",
        "  \n",
        "    def get_tweet_sentiment(self, tweet): \n",
        "        ''' \n",
        "        Utility function to classify sentiment of passed tweet \n",
        "        using textblob's sentiment method \n",
        "        '''\n",
        "        # create TextBlob object of passed tweet text \n",
        "        analysis = TextBlob(self.clean_tweet(tweet)) \n",
        "        # set sentiment \n",
        "        if analysis.sentiment.polarity > 0: \n",
        "            return 'positive'\n",
        "        elif analysis.sentiment.polarity == 0: \n",
        "            return 'neutral'\n",
        "        else: \n",
        "            return 'negative'\n",
        "  \n",
        "    def get_tweets(self, query, count = 10): \n",
        "        ''' \n",
        "        Main function to fetch tweets and parse them. \n",
        "        '''\n",
        "        # empty list to store parsed tweets \n",
        "        tweets = [] \n",
        "  \n",
        "        try: \n",
        "            # call twitter api to fetch tweets \n",
        "            fetched_tweets = self.api.search(q = query, count = count) \n",
        "  \n",
        "            # parsing tweets one by one \n",
        "            for tweet in fetched_tweets: \n",
        "                # empty dictionary to store required params of a tweet \n",
        "                parsed_tweet = {} \n",
        "  \n",
        "                # saving text of tweet \n",
        "                parsed_tweet['text'] = tweet.text \n",
        "                # saving sentiment of tweet \n",
        "                parsed_tweet['sentiment'] = self.get_tweet_sentiment(tweet.text) \n",
        "  \n",
        "                # appending parsed tweet to tweets list \n",
        "                if tweet.retweet_count > 0: \n",
        "                    # if tweet has retweets, ensure that it is appended only once \n",
        "                    if parsed_tweet not in tweets: \n",
        "                        tweets.append(parsed_tweet) \n",
        "                else: \n",
        "                    tweets.append(parsed_tweet) \n",
        "  \n",
        "            # return parsed tweets \n",
        "            return tweets \n",
        "  \n",
        "        except tweepy.TweepError as e: \n",
        "            # print error (if any) \n",
        "            print(\"Error : \" + str(e)) "
      ],
      "execution_count": 56,
      "outputs": []
    },
    {
      "cell_type": "code",
      "metadata": {
        "id": "iWSiy1VAJ569"
      },
      "source": [
        "def main(x): \n",
        "    # creating object of TwitterClient Class \n",
        "    api = TwitterClient() \n",
        "    # calling function to get tweets\n",
        "    print(\"Tweets from the news channel \"+x)\n",
        "    tweets = api.get_tweets(query = x, count = 200) \n",
        "  \n",
        "    # picking positive tweets from tweets \n",
        "    ptweets = [tweet for tweet in tweets if tweet['sentiment'] == 'positive']\n",
        "    # percentage of positive tweets \n",
        "    ntweets = [tweet for tweet in tweets if tweet['sentiment'] == 'negative'] \n",
        "    # percentage of negative tweets \n",
        "    \n",
        "    print(\"Negative tweets percentage: {} %\".format(100*len(ntweets)/len(tweets)))\n",
        "    # percentage of neutral tweets \n",
        "    neg = 100*len(ntweets)/len(tweets)\n",
        "    pos = 100*(len(tweets) -(len( ntweets )+len( ptweets)))/len(tweets)\n",
        "\n",
        "    print(\"positive  tweets percentage: {} % \\n \".format(100*(len(tweets) -(len( ntweets )+len( ptweets)))/len(tweets)))\n",
        "\n",
        "    fig = plt.figure()\n",
        "    ax = fig.add_axes([0,0,1,1])\n",
        "    x = ['positive' , 'negative']\n",
        "    y = [neg , pos]\n",
        "    ax.bar(x,y)\n",
        "    plt.show()\n",
        "\n",
        "\n",
        "\n",
        "\n",
        " "
      ],
      "execution_count": 57,
      "outputs": []
    },
    {
      "cell_type": "code",
      "metadata": {
        "id": "lXmwX3MLL5WW",
        "outputId": "746a6dbe-a640-4a2a-93c5-e9161128f489",
        "colab": {
          "base_uri": "https://localhost:8080/",
          "height": 1000
        }
      },
      "source": [
        "main('trump')\n",
        "main('NDTV')\n",
        "main('times now')\n",
        "\n",
        "\n"
      ],
      "execution_count": 58,
      "outputs": [
        {
          "output_type": "stream",
          "text": [
            "Tweets from the news channel trump\n",
            "Negative tweets percentage: 30.76923076923077 %\n",
            "positive  tweets percentage: 69.23076923076923 % \n",
            " \n"
          ],
          "name": "stdout"
        },
        {
          "output_type": "display_data",
          "data": {
            "image/png": "[encoded data removed]",
            "text/plain": [
              "<Figure size 432x288 with 1 Axes>"
            ]
          },
          "metadata": {
            "tags": [],
            "needs_background": "light"
          }
        },
        {
          "output_type": "stream",
          "text": [
            "Tweets from the news channel NDTV\n",
            "Negative tweets percentage: 36.61971830985915 %\n",
            "positive  tweets percentage: 63.38028169014085 % \n",
            " \n"
          ],
          "name": "stdout"
        },
        {
          "output_type": "display_data",
          "data": {
            "image/png": "[encoded data removed]",
            "text/plain": [
              "<Figure size 432x288 with 1 Axes>"
            ]
          },
          "metadata": {
            "tags": [],
            "needs_background": "light"
          }
        },
        {
          "output_type": "stream",
          "text": [
            "Tweets from the news channel times now\n",
            "Negative tweets percentage: 45.833333333333336 %\n",
            "positive  tweets percentage: 54.166666666666664 % \n",
            " \n"
          ],
          "name": "stdout"
        },
        {
          "output_type": "display_data",
          "data": {
            "image/png": "[encoded data removed]",
            "text/plain": [
              "<Figure size 432x288 with 1 Axes>"
            ]
          },
          "metadata": {
            "tags": [],
            "needs_background": "light"
          }
        }
      ]
    }
  ]
}